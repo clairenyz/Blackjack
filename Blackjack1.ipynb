{
 "cells": [
  {
   "cell_type": "markdown",
   "metadata": {
    "collapsed": false
   },
   "source": [
    "# Unit 9 Problem Set\n",
    "\n",
    "In this problem set we will build a set of classes that will be used to play the card game Blackjack. If you have never played, then you can find the simple rules here: https://www.bicyclecards.com/how-to-play/blackjack/\n"
   ]
  },
  {
   "cell_type": "markdown",
   "metadata": {
    "collapsed": false
   },
   "source": [
    "## The Card class"
   ]
  },
  {
   "cell_type": "markdown",
   "metadata": {
    "collapsed": false
   },
   "source": [
    "1.Think about a deck of cards. What do you need to know in order to tell one card from another? \n",
    "\n",
    "There are thirteen different ranks, from Ace to King. There are four different suits: Clubs, Diamonds, Hearts, and Spades. So, to know everything about a single card you need its rank and its suit. In card games such as blackjack, where the cards are worth a certain number of points, it is also helpful to have a third variable, called value that is an integer related to a card's rank. The values of the cards are [2,3,4,5,6,7,8,9,10,10,10,10,11], respectively (meaning, the Jack, King, Queen, and 10 have a value of 10 and the Ace has a value of 11).\n",
    "\n",
    "Create a **class** named **Card**. Include three **attributes**: **rank** and **suit** (both strings) and **value** (int). Don't forget the initializing (__init__) and the toString (__str__) methods.\n",
    "\n",
    "Test that you can create a few cards. Make several instances of different cards: try Ace of Spades and Eight of Hearts. "
   ]
  },
  {
   "cell_type": "code",
   "execution_count": 2,
   "metadata": {
    "collapsed": false
   },
   "outputs": [
    {
     "name": "stdout",
     "output_type": "stream",
     "text": [
      "The card is Ace of Spades.\n",
      "The card is Eight of Hearts.\n"
     ]
    }
   ],
   "source": [
    "#insert 1\n",
    "class Card:\n",
    "    def __init__(self, ranks, suits, values):\n",
    "        self.ranks = ranks\n",
    "        self.suits = suits\n",
    "        self.values = values\n",
    "    def __str__(self):\n",
    "        return f'The card is {self.ranks} of {self.suits}.'\n",
    "card = Card(\"Ace\",'Spades','10')\n",
    "print(card)\n",
    "card = Card(\"Eight\",\"Hearts\",\"8\")\n",
    "print(card)"
   ]
  },
  {
   "cell_type": "markdown",
   "metadata": {
    "collapsed": false
   },
   "source": [
    "## The Deck class"
   ]
  },
  {
   "cell_type": "markdown",
   "metadata": {
    "collapsed": false
   },
   "source": [
    "2.A typical deck of cards has one of each rank in one of each suit, for a total of 52 cards. Create a **class** named **Deck**. The **attribute** of our Deck class will be a single list of 52 Card objects named **cards**.\n",
    "\n",
    "To do this, you will need to send three lists to the initializing method as input: ranks, suits, and values. Then use a double for-loop to create the Cards (by calling the initializing method of the Card Class) and append them to the list called cards. To help, here are three lists that you can copy and paste in your code below:\n",
    "\n",
    "ranks = ['Two','Three','Four','Five','Six','Seven','Eight','Nine','Ten','Jack','Queen','King','Ace']\n",
    "\n",
    "suits = ['Clubs', 'Diamonds', 'Hearts', 'Spades']\n",
    "\n",
    "values = [2,3,4,5,6,7,8,9,10,10,10,10,11]"
   ]
  },
  {
   "cell_type": "code",
   "execution_count": 3,
   "metadata": {
    "collapsed": false
   },
   "outputs": [
    {
     "name": "stdout",
     "output_type": "stream",
     "text": [
      "The card is Two of Clubs.\n",
      "The card is Three of Clubs.\n",
      "The card is Four of Clubs.\n",
      "The card is Five of Clubs.\n",
      "The card is Six of Clubs.\n",
      "The card is Seven of Clubs.\n",
      "The card is Eight of Clubs.\n",
      "The card is Nine of Clubs.\n",
      "The card is Ten of Clubs.\n",
      "The card is Jack of Clubs.\n",
      "The card is Queen of Clubs.\n",
      "The card is King of Clubs.\n",
      "The card is Ace of Clubs.\n",
      "The card is Two of Diamonds.\n",
      "The card is Three of Diamonds.\n",
      "The card is Four of Diamonds.\n",
      "The card is Five of Diamonds.\n",
      "The card is Six of Diamonds.\n",
      "The card is Seven of Diamonds.\n",
      "The card is Eight of Diamonds.\n",
      "The card is Nine of Diamonds.\n",
      "The card is Ten of Diamonds.\n",
      "The card is Jack of Diamonds.\n",
      "The card is Queen of Diamonds.\n",
      "The card is King of Diamonds.\n",
      "The card is Ace of Diamonds.\n",
      "The card is Two of Hearts.\n",
      "The card is Three of Hearts.\n",
      "The card is Four of Hearts.\n",
      "The card is Five of Hearts.\n",
      "The card is Six of Hearts.\n",
      "The card is Seven of Hearts.\n",
      "The card is Eight of Hearts.\n",
      "The card is Nine of Hearts.\n",
      "The card is Ten of Hearts.\n",
      "The card is Jack of Hearts.\n",
      "The card is Queen of Hearts.\n",
      "The card is King of Hearts.\n",
      "The card is Ace of Hearts.\n",
      "The card is Two of Spades.\n",
      "The card is Three of Spades.\n",
      "The card is Four of Spades.\n",
      "The card is Five of Spades.\n",
      "The card is Six of Spades.\n",
      "The card is Seven of Spades.\n",
      "The card is Eight of Spades.\n",
      "The card is Nine of Spades.\n",
      "The card is Ten of Spades.\n",
      "The card is Jack of Spades.\n",
      "The card is Queen of Spades.\n",
      "The card is King of Spades.\n",
      "The card is Ace of Spades.\n"
     ]
    }
   ],
   "source": [
    "#insert 2\n",
    "c=Card('Ace','Hearts','10')\n",
    "class Deck:\n",
    "    def __init__(self,ranks,suits,values):\n",
    "        self.cards=[]\n",
    "        for suit in suits:\n",
    "            for rank in ranks:\n",
    "                #print(rank, values[ranks.index(rank)])\n",
    "                self.cards.append(Card(rank,suit,values[ranks.index(rank)]))\n",
    "    def __str__(self):\n",
    "        return f\"{self.cards}\"\n",
    "    \n",
    "ranks = ['Two','Three','Four','Five','Six','Seven','Eight','Nine','Ten','Jack','Queen','King','Ace']\n",
    "suits = ['Clubs', 'Diamonds', 'Hearts', 'Spades']\n",
    "values = [2,3,4,5,6,7,8,9,10,10,10,10,11]\n",
    "\n",
    "c=Deck(ranks,suits,values)\n",
    "for card in c.cards:\n",
    "    print(card)"
   ]
  },
  {
   "cell_type": "markdown",
   "metadata": {
    "collapsed": false
   },
   "source": [
    "3.One obvious **method** that you will need is a **shuffle()** method that shuffles the deck **in place**. This method should reorder the deck randomly. There are many ways to do this, but luckily, the Python random package has a shuffle method built in that shuffles a list in place! \n",
    "\n",
    "Finally, create a method called **get_top_card()**. This method should **return** the card with index 0, and remove it from the deck **in place**.\n"
   ]
  },
  {
   "cell_type": "markdown",
   "metadata": {
    "collapsed": false
   },
   "source": [
   ]
  },
  {
   "cell_type": "code",
   "execution_count": 4,
   "metadata": {
    "collapsed": false
   },
   "outputs": [
    {
     "name": "stdout",
     "output_type": "stream",
     "text": [
      "Five of Diamonds\n",
      "King of Hearts\n",
      "Three of Hearts\n",
      "Three of Spades\n",
      "Five of Spades\n",
      "Ten of Diamonds\n",
      "Nine of Diamonds\n",
      "Seven of Spades\n",
      "Two of Clubs\n",
      "Jack of Diamonds\n",
      "Queen of Spades\n",
      "Eight of Spades\n",
      "Queen of Clubs\n",
      "Ace of Hearts\n",
      "Four of Clubs\n",
      "Six of Clubs\n",
      "Eight of Diamonds\n",
      "Seven of Diamonds\n",
      "Ace of Spades\n",
      "Five of Hearts\n",
      "Six of Spades\n",
      "Four of Spades\n",
      "Jack of Hearts\n",
      "Five of Clubs\n",
      "Seven of Hearts\n",
      "Seven of Clubs\n",
      "Ace of Diamonds\n",
      "Ace of Clubs\n",
      "Two of Diamonds\n",
      "Four of Diamonds\n",
      "Nine of Hearts\n",
      "Ten of Clubs\n",
      "Eight of Hearts\n",
      "Six of Diamonds\n",
      "Nine of Spades\n",
      "Queen of Hearts\n",
      "Two of Hearts\n",
      "Three of Clubs\n",
      "Ten of Spades\n",
      "Queen of Diamonds\n",
      "Jack of Spades\n",
      "Four of Hearts\n",
      "Three of Diamonds\n",
      "Six of Hearts\n",
      "King of Clubs\n",
      "Nine of Clubs\n",
      "King of Spades\n",
      "King of Diamonds\n",
      "Ten of Hearts\n",
      "Eight of Clubs\n",
      "Jack of Clubs\n",
      "Two of Spades\n",
      "\n",
      "The card is Five of Diamonds.\n"
     ]
    }
   ],
   "source": [
    "#edit your code in the cell above to reflect these changes\n",
    "import random\n",
    "\n",
    "c=Card('Ace','Hearts','10')\n",
    "class Deck:\n",
    "    def __init__(self,ranks,suits,values):\n",
    "        self.cards=[]\n",
    "        for suit in suits:\n",
    "            for rank in ranks:\n",
    "                self.cards.append(Card(rank,suit,values[ranks.index(rank)]))\n",
    "    def shufflecards(self):\n",
    "        random.shuffle(self.cards)\n",
    "    def get_top_card(self):\n",
    "        return self.cards.pop(0)\n",
    "    def __str__(self):\n",
    "        thecard=\"\"\n",
    "        for x in self.cards:\n",
    "            thecard+=f\"{x.ranks} of {x.suits}\" + \"\\n\"\n",
    "        return thecard\n",
    "    \n",
    "ranks = ['Two','Three','Four','Five','Six','Seven','Eight','Nine','Ten','Jack','Queen','King','Ace']\n",
    "suits = ['Clubs', 'Diamonds', 'Hearts', 'Spades']\n",
    "values = [2,3,4,5,6,7,8,9,10,10,10,10,11]\n",
    "\n",
    "c=Deck(ranks,suits,values)\n",
    "c.shufflecards()\n",
    "print (c)\n",
    "\n",
    "print(c.get_top_card())"
   ]
  },
  {
   "cell_type": "raw",
   "metadata": {
    "collapsed": false
   },
   "source": [
   ]
  },
  {
   "cell_type": "raw",
   "metadata": {
    "collapsed": false
   },
   "source": [
   ]
  },
  {
   "cell_type": "code",
   "execution_count": 0,
   "metadata": {
    "collapsed": false
   },
   "outputs": [
   ],
   "source": [
   ]
  },
  {
   "cell_type": "markdown",
   "metadata": {
    "collapsed": false
   },
   "source": [
    "4.Use the cell below to test your deck method. Hint: check the length of your deck to make sure that the get_top_card method is removing a card from the deck. Also check that your deck is getting randomly shuffled. Insert some test code below."
   ]
  },
  {
   "cell_type": "code",
   "execution_count": 5,
   "metadata": {
    "collapsed": false
   },
   "outputs": [
    {
     "name": "stdout",
     "output_type": "stream",
     "text": [
      "The card is King of Hearts.\n",
      "50\n",
      "None\n"
     ]
    }
   ],
   "source": [
    "#insert 4\n",
    "print(c.get_top_card())\n",
    "print(len(c.cards))\n",
    "print(c.shufflecards())"
   ]
  },
  {
   "cell_type": "markdown",
   "metadata": {
    "collapsed": false
   },
   "source": [
    "## The Blackjack class"
   ]
  },
  {
   "cell_type": "markdown",
   "metadata": {
    "collapsed": false
   },
   "source": [
    "When a 'single' program is built from several classes, it is common to have a runner class that is not intended to create objects. We will name our **runner class**, **Blackjack**. Since we will not be creating instances of this class, we do not need an initializing method. \n",
    "\n",
    "We will need **methods** as follows (notice that they are named so that anyone will know what they do):\n",
    "\n",
    "**player_turn()**, **computer_turn()**, **deal()**, **check_bust()**, **check_blackjack()**, **find_winner()**, and finally a **main** method to control the order of when methods will be called. See below for an outline of the main method. Your job is to finish the main and write the rest of the methods."
   ]
  },
  {
   "cell_type": "code",
   "execution_count": 19,
   "metadata": {
    "cocalc": {
     "outputs": {
      "1": {
       "name": "input",
       "opts": {
        "password": false,
        "prompt": "Do you want to choose a new card? Hit or Stand"
       },
       "output_type": "stream",
       "value": "Hit"
      },
      "3": {
       "name": "input",
       "opts": {
        "password": false,
        "prompt": "Hit or Stand?"
       },
       "output_type": "stream",
       "value": "Hit"
      },
      "5": {
       "name": "input",
       "opts": {
        "password": false,
        "prompt": "Hit or Stand?"
       },
       "output_type": "stream",
       "value": "Stand"
      },
      "7": {
       "name": "input",
       "opts": {
        "password": false,
        "prompt": "Hit or Stand?"
       },
       "output_type": "stream",
       "value": "Stand"
      }
     }
    },
    "collapsed": false
   },
   "outputs": [
    {
     "name": "stdout",
     "output_type": "stream",
     "text": [
      "The card is Six of Spades.\n",
      "6\n",
      "The card is Five of Diamonds.\n",
      "5\n",
      "The card is Three of Hearts.\n",
      "9\n",
      "The card is Six of Diamonds.\n",
      "11\n",
      "Your Score: 9\n"
     ]
    },
    {
     "name": "stdout",
     "output_type": "stream",
     "text": "Do you want to choose a new card? Hit or Stand Hit"
    },
    {
     "name": "stdout",
     "output_type": "stream",
     "text": [
      "The card is Two of Diamonds.\n",
      "11\n",
      "Your Score: 11\n"
     ]
    },
    {
     "name": "stdout",
     "output_type": "stream",
     "text": "Hit or Stand? Hit"
    },
    {
     "name": "stdout",
     "output_type": "stream",
     "text": [
      "The card is Five of Hearts.\n",
      "16\n",
      "Your Score: 16\n"
     ]
    },
    {
     "name": "stdout",
     "output_type": "stream",
     "text": "Hit or Stand? Stand"
    },
    {
     "name": "stdout",
     "output_type": "stream",
     "text": [
      "The card is Four of Clubs.\n",
      "20\n",
      "Your Score: 20\n"
     ]
    },
    {
     "name": "stdout",
     "output_type": "stream",
     "text": "Hit or Stand? Stand"
    },
    {
     "name": "stdout",
     "output_type": "stream",
     "text": [
      "The card is King of Clubs.\n",
      "30\n",
      "Your Score: 30\n",
      "You busted\n",
      "The card is Queen of Diamonds.\n",
      "21\n",
      "Computer Score: 21\n",
      "Computer Wins!\n"
     ]
    }
   ],
   "source": [
    "import random \n",
    "class Blackjack:\n",
    "        \n",
    "        def deal(self, deck, tally):\n",
    "            cardindeck=deck.get_top_card()\n",
    "            tally+=cardindeck.values\n",
    "            print(cardindeck)\n",
    "            print(tally)\n",
    "            return tally\n",
    "            '''deals a single card and returns the new tally of all that player/'s cards'''\n",
    "        \n",
    "        def check_bust(self, tally):\n",
    "            if tally > 21:\n",
    "                return True \n",
    "            else: \n",
    "                return False \n",
    "            '''returns True or False based on whether the tally is greater than 21'''\n",
    "        \n",
    "        def check_blackjack(self, tally):\n",
    "            if tally==21:\n",
    "                return True\n",
    "            else:\n",
    "                return False \n",
    "            '''returns True or False based on whether the tally is equal to 21'''\n",
    "            \n",
    "        #player method\n",
    "        def player_turn(self, deck, player_sum):\n",
    "            print(f\"Your Score: {player_sum}\")\n",
    "            newcard=input('Do you want to choose a new card? Hit or Stand').strip()\n",
    "            while True:\n",
    "                if newcard.title() != \"Hit\" and newcard.title() != \"Stand\":\n",
    "                    newcard = input(\"\"\"Invalid input.\n",
    "                                   Please choose \\\"Hit\\\" or \\\"Stand\\\"\"\"\").strip()\n",
    "                if newcard.title().strip() == \"Hit\":\n",
    "                    player_sum = self.deal(deck, player_sum)\n",
    "                    print(f\"Your Score: {player_sum}\")\n",
    "                    if self.check_bust(player_sum):\n",
    "                        print(\"You busted\")\n",
    "                        break\n",
    "                    else:\n",
    "                        choice = input(\"Hit or Stand?\")\n",
    "                else:\n",
    "                    break\n",
    "            return player_sum\n",
    "            '''Continues to ask the user if they want to choose a new card (and then chooses a card)\n",
    "            until the player busts or chooses to stop receiving more cards. It then returns the player_sum.'''\n",
    "        \n",
    "        #computer method\n",
    "        def computer_turn(self, deck, comp_sum):\n",
    "            while comp_sum < 17:\n",
    "                comp_sum = self.deal(deck, comp_sum)\n",
    "            return comp_sum\n",
    "            '''Continues to choose a new card\n",
    "            until the computer busts or the comp_sum becomes 17 or higher. It then returns the comp_sum.'''\n",
    "        \n",
    "        def find_winner(self, player_sum, comp_sum):\n",
    "            '''Prints Player Wins!, Computer Wins!, or Tie! based on a comparison of player_sum and comp_sum.'''\n",
    "            if self.check_bust(player_sum) and self.check_bust(comp_sum):\n",
    "                print(\"Tie!\")\n",
    "            elif self.check_bust(player_sum):\n",
    "                print(\"Computer Wins!\")\n",
    "            elif self.check_bust(comp_sum):\n",
    "                print(\"Player Wins!\")\n",
    "            else:\n",
    "                if player_sum > comp_sum:\n",
    "                    print(\"Player Wins!\")\n",
    "                elif player_sum == comp_sum:\n",
    "                    print(\"Tie!\")\n",
    "                else:\n",
    "                    print(\"Computer Wins!\")\n",
    "        def main(self):\n",
    "        \n",
    "            #create a runner class\n",
    "            game = Blackjack()\n",
    "            \n",
    "            #we will need these lists below\n",
    "            ranks = ['Two','Three','Four','Five','Six','Seven','Eight','Nine','Ten','Jack','Queen','King','Ace']\n",
    "            suits = ['Clubs', 'Diamonds', 'Hearts', 'Spades']\n",
    "            values = [2,3,4,5,6,7,8,9,10,10,10,10,11]\n",
    "\n",
    "            #create a deck object \n",
    "            class Deck():\n",
    "                    def __init__(self, ranks, suits, values):\n",
    "                        self.deck = []\n",
    "                        for x in range(13):\n",
    "                            for y in range(4):\n",
    "                                self.deck.append(Card(ranks[x],\n",
    "                                                      suits[y], values[x]))\n",
    "                    def get_top_card(self):\n",
    "                        return self.deck.pop(0)\n",
    "\n",
    "            deck = Deck(ranks, suits, values)\n",
    "            #shuffle the deck\n",
    "            from random import shuffle\n",
    "            shuffle(deck.deck)\n",
    "            #initialize a player_sum and comp_sum to zero\n",
    "            player_sum = 0\n",
    "            comp_sum = 0\n",
    "            #deal the first four cards (alternating player/comp/player/comp)\n",
    "            player_sum = self.deal(deck, 0)\n",
    "            comp_sum = self.deal(deck, 0)\n",
    "            player_sum = self.deal(deck, player_sum)\n",
    "            comp_sum = self.deal(deck, comp_sum)\n",
    "            #let the player take their turn (meaning they can choose more cards until they choose to stop or bust)\n",
    "\n",
    "            player_sum = self.player_turn(deck, player_sum)\n",
    "            #if the player's sum doesn't exactly equal to 21, let the computer take its turn (meaning it can choose more cards until it chooses to stop or bust)\n",
    "            if player_sum != 21:\n",
    "                comp_sum = self.computer_turn(deck, comp_sum)\n",
    "            print(f\"Computer Score: {comp_sum}\")\n",
    "            #calculate who the winner is\n",
    "            self.find_winner(player_sum, comp_sum)\n",
    "# run the main program\n",
    "if __name__ == '__main__':\n",
    "    Blackjack().main()"
   ]
  },
  {
   "cell_type": "code",
   "execution_count": 0,
   "metadata": {
    "collapsed": false
   },
   "outputs": [
   ],
   "source": [
    "1. choice needs to get changed - not being used\n",
    "2. if player gets blackjack or busts, they shouldnt be asked if they want another card and computer shouldnt take a turn\n",
    "it either wins or loses."
   ]
  }
 ],
 "metadata": {
  "kernelspec": {
   "display_name": "Python 3 (Anaconda 5)",
   "language": "python",
   "name": "anaconda5"
  },
  "language_info": {
   "codemirror_mode": {
    "name": "ipython",
    "version": 3
   },
   "file_extension": ".py",
   "mimetype": "text/x-python",
   "name": "python",
   "nbconvert_exporter": "python",
   "pygments_lexer": "ipython3",
   "version": "3.6.6"
  }
 },
 "nbformat": 4,
 "nbformat_minor": 0
}